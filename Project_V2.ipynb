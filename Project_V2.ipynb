{
  "nbformat": 4,
  "nbformat_minor": 0,
  "metadata": {
    "colab": {
      "name": "Project V2.ipynb",
      "provenance": []
    },
    "kernelspec": {
      "name": "python3",
      "display_name": "Python 3"
    }
  },
  "cells": [
    {
      "cell_type": "code",
      "metadata": {
        "id": "n-euBVx4ggUV"
      },
      "source": [
        "%load_ext autoreload\n",
        "%autoreload 2\n",
        "\n",
        "%config InlineBackend.figure_format = 'svg'\n",
        "%matplotlib inline\n",
        "\n",
        "import collections\n",
        "import colorsys\n",
        "import itertools\n",
        "\n",
        "import matplotlib.pyplot as plt\n",
        "import nltk\n",
        "import numpy as np\n",
        "import pandas as pd\n",
        "import seaborn as sns\n",
        "import webcolors\n",
        "from IPython.display import Image\n",
        "\n",
        "import haikulib.eda.colors\n",
        "from haikulib import data, nlp, utils\n",
        "\n",
        "\n",
        "\n"
      ],
      "execution_count": null,
      "outputs": []
    },
    {
      "cell_type": "code",
      "metadata": {
        "id": "0uyFp-TBlaH_"
      },
      "source": [
        "data_dir = data.get_data_dir() / \"experiments\" / \"eda\" / \"colors\"\n",
        "data_dir.mkdir(parents=True, exist_ok=True)\n",
        "pd.set_option(\"display.latex.repr\", True)\n",
        "pd.set_option(\"display.latex.longtable\", True)\n",
        "pd.set_option('display.max_colwidth', None)\n",
        "plt.rcParams[\"figure.figsize\"] = (16, 9)\n",
        "sns.set(style=\"whitegrid\")"
      ],
      "execution_count": null,
      "outputs": []
    },
    {
      "cell_type": "code",
      "metadata": {
        "id": "VZWOMm-1ldLc"
      },
      "source": [
        "df = data.get_df()\n",
        "corpus = []\n",
        "\n",
        "for haiku in df[\"haiku\"]:\n",
        "    corpus.append(\" \".join(haiku.split(\"/\")))\n",
        "\n",
        "color_names = {\n",
        "    r[\"color\"]: r[\"hex\"] for _, r in haikulib.eda.colors.get_colors().iterrows()\n",
        "}"
      ],
      "execution_count": null,
      "outputs": []
    },
    {
      "cell_type": "code",
      "metadata": {
        "id": "Kl76-IG_lgcM"
      },
      "source": [
        "%%time\n",
        "naive_colors = collections.Counter()\n",
        "for haiku in corpus:\n",
        "    # Update the color counts for this haiku.\n",
        "    naive_colors.update(nlp.count_tokens_from(haiku, color_names, ngrams=[1, 2, 3]))\n"
      ],
      "execution_count": null,
      "outputs": []
    },
    {
      "cell_type": "code",
      "metadata": {
        "id": "nXWb6ECslkLP"
      },
      "source": [
        "naive_color_counts = pd.DataFrame(\n",
        "    {\n",
        "        \"color\": list(naive_colors.keys()),\n",
        "        \"count\": list(naive_colors.values()),\n",
        "        \"hex\": [color_names[c] for c in naive_colors],\n",
        "    }\n",
        ")\n",
        "\n",
        "total_color_count = sum(row[\"count\"] for index, row in naive_color_counts.iterrows())\n",
        "\n",
        "print(f\"There are {total_color_count} occurences of color in the corpus\")\n",
        "print(f\"There are {len(naive_color_counts)} unique colors\")\n",
        "\n",
        "naive_color_counts.head(10)\n"
      ],
      "execution_count": null,
      "outputs": []
    },
    {
      "cell_type": "code",
      "metadata": {
        "id": "4lccqB1hlm5U"
      },
      "source": [
        "utils.display_source(\"haikulib.utils\", \"display_source\")\n",
        "utils.display_source(\"haikulib.eda.colors\", \"is_color\")\n",
        "utils.display_source(\"haikulib.nlp\", \"pos_tag\")\n"
      ],
      "execution_count": null,
      "outputs": []
    },
    {
      "cell_type": "code",
      "metadata": {
        "id": "ul_QkrHTlzt3"
      },
      "source": [
        "# Modified to test colors of all three sizes.\n",
        "haiku = \"dark blue lines / in a light olive green sea salt / dreams\"\n",
        "haiku_colors = [\n",
        "    tagged_word[0]\n",
        "    for tagged_word in nlp.pos_tag(haiku)\n",
        "    if haikulib.eda.colors.is_color(tagged_word)\n",
        "]\n",
        "print(haiku_colors)"
      ],
      "execution_count": null,
      "outputs": []
    },
    {
      "cell_type": "code",
      "metadata": {
        "id": "PkWjq9Rxl27T"
      },
      "source": [
        "utils.display_source(\"haikulib.eda.colors\", \"find_colors\")\n",
        "haikulib.eda.colors.find_colors(nlp.pos_tag(haiku))\n",
        "utils.display_source(\"haikulib.data.initialization\", \"init_csv\")\n",
        "df = data.get_df()\n",
        "df.tail(10)"
      ],
      "execution_count": null,
      "outputs": []
    },
    {
      "cell_type": "code",
      "metadata": {
        "id": "ILaE-N9al_wf"
      },
      "source": [
        "pos_tagging_color_counts = haikulib.eda.colors.get_colors()\n",
        "\n",
        "total_color_count = pos_tagging_color_counts[\"count\"].sum()\n",
        "used_color_count = pos_tagging_color_counts[\"count\"].astype(bool).sum(axis=0)\n",
        "\n",
        "print(f\"There are {total_color_count} occurences of color in the corpus\")\n",
        "print(f\"There are {used_color_count} unique colors\")\n",
        "\n",
        "pos_tagging_color_counts[[\"color\", \"count\", \"hex\"]].head(10)"
      ],
      "execution_count": null,
      "outputs": []
    },
    {
      "cell_type": "code",
      "metadata": {
        "id": "Ty2rOqd3mCgM"
      },
      "source": [
        "total_color_count = naive_color_counts[\"count\"].sum()\n",
        "\n",
        "print(f\"There are {total_color_count} occurences of color in the corpus\")\n",
        "print(f\"There are {len(naive_color_counts)} unique colors\")\n",
        "\n",
        "naive_color_counts.head(10)"
      ],
      "execution_count": null,
      "outputs": []
    },
    {
      "cell_type": "code",
      "metadata": {
        "id": "ncsl-WDWmFh-"
      },
      "source": [
        "Image(data_dir / \"..\" / \"word_clouds\" / \"colors.png\")\n"
      ],
      "execution_count": null,
      "outputs": []
    },
    {
      "cell_type": "code",
      "metadata": {
        "id": "AU3mQrP3mJPm"
      },
      "source": [
        "colors = haikulib.eda.colors.get_colors()\n",
        "colors.sort_values(by=[\"hsv\", \"count\"], ascending=False, inplace=True)\n",
        "used_colors = colors.loc[colors[\"count\"] != 0].copy()\n",
        "used_colors.sort_values(by=\"count\", ascending=False, inplace=True)\n",
        "_ = plt.bar(\n",
        "    range(len(used_colors)),\n",
        "    used_colors[\"count\"],\n",
        "    color=used_colors[\"rgb\"],\n",
        "    width=1,\n",
        "    linewidth=0,\n",
        "    log=True,\n",
        ")\n",
        "plt.savefig(data_dir / \"histogram.svg\")\n",
        "plt.show()"
      ],
      "execution_count": null,
      "outputs": []
    },
    {
      "cell_type": "code",
      "metadata": {
        "id": "O8lh3qjXmNZ7"
      },
      "source": [
        "def pairwise_difference(seq):\n",
        "    for l, r in utils.pairwise(seq):\n",
        "        yield r - l\n",
        "    # Loop back around to the front.\n",
        "    yield 2 * np.pi - seq[-1]\n",
        "\n",
        "\n",
        "def accumulate(seq):\n",
        "    _sum = 0\n",
        "    for s in seq:\n",
        "        yield _sum\n",
        "        _sum += s"
      ],
      "execution_count": null,
      "outputs": []
    },
    {
      "cell_type": "code",
      "metadata": {
        "id": "ArdcqvdJmQMM"
      },
      "source": [
        "used_colors.sort_values(by=\"count\", ascending=False, inplace=True)\n",
        "\n",
        "ax = plt.subplot(111, projection=\"polar\")\n",
        "\n",
        "thetas = 2 * np.pi * used_colors[\"count\"] / used_colors[\"count\"].sum()\n",
        "thetas = np.array(list(accumulate(thetas)))\n",
        "widths = np.array(list(pairwise_difference(thetas)))\n",
        "radii = np.log(used_colors[\"count\"])\n",
        "\n",
        "_ = ax.bar(\n",
        "    x=thetas,\n",
        "    height=radii,\n",
        "    width=widths,\n",
        "    color=used_colors[\"rgb\"],\n",
        "    linewidth=0,\n",
        "    align=\"edge\",\n",
        ")\n",
        "plt.savefig(data_dir / \"count-proportional-theta-radii-width.svg\")\n",
        "plt.show()\n",
        "ax = plt.subplot(111, projection=\"polar\")\n",
        "\n",
        "_ = ax.bar(\n",
        "    x=thetas,\n",
        "    # Plot the same information with a fixed height.\n",
        "    height=1,\n",
        "    width=widths,\n",
        "    color=used_colors[\"rgb\"],\n",
        "    linewidth=0,\n",
        "    align=\"edge\",\n",
        ")\n",
        "plt.savefig(data_dir / \"count-proportional-theta-width-fixed-height.svg\")\n",
        "plt.show()"
      ],
      "execution_count": null,
      "outputs": []
    },
    {
      "cell_type": "code",
      "metadata": {
        "id": "9bBr_AsNmhtR"
      },
      "source": [
        "used_colors.sort_values(by=\"hsv\", ascending=False, inplace=True)\n"
      ],
      "execution_count": null,
      "outputs": []
    },
    {
      "cell_type": "code",
      "metadata": {
        "id": "ke7bjzUtmian"
      },
      "source": [
        "ax = plt.subplot(111, projection=\"polar\")\n",
        "\n",
        "thetas = np.linspace(0, 2 * np.pi, len(used_colors), endpoint=False)\n",
        "widths = 4 * np.pi / len(used_colors)\n",
        "radii = np.log(used_colors[\"count\"])\n",
        "\n",
        "_ = ax.bar(\n",
        "    x=thetas,\n",
        "    height=radii,\n",
        "    width=widths,\n",
        "    color=used_colors[\"rgb\"],\n",
        "    linewidth=0,\n",
        "    align=\"edge\",\n",
        ")\n",
        "plt.savefig(data_dir / \"hue-proportional-radii-fixed-theta-width.svg\")\n",
        "plt.show()\n",
        "ax = plt.subplot(111, projection=\"polar\")\n",
        "\n",
        "thetas = 2 * np.pi * used_colors[\"count\"] / used_colors[\"count\"].sum()\n",
        "thetas = np.array(list(accumulate(thetas)))\n",
        "widths = np.array(list(pairwise_difference(thetas)))\n",
        "radii = np.log(used_colors[\"count\"])\n",
        "\n",
        "_ = ax.bar(\n",
        "    x=thetas,\n",
        "    height=1,\n",
        "    width=widths,\n",
        "    color=used_colors[\"rgb\"],\n",
        "    linewidth=0,\n",
        "    align=\"edge\",\n",
        ")\n",
        "plt.savefig(data_dir / \"hue-proportional-theta-width-fixed-radii.svg\")\n",
        "plt.show()\n",
        "ax = plt.subplot(111, projection=\"polar\")\n",
        "\n",
        "_ = ax.bar(\n",
        "    x=thetas,\n",
        "    height=radii,\n",
        "    width=widths,\n",
        "    color=used_colors[\"rgb\"],\n",
        "    linewidth=0,\n",
        "    align=\"edge\",\n",
        ")\n",
        "plt.savefig(data_dir / \"hue-proportional-theta-radii-width.svg\")\n",
        "plt.show()"
      ],
      "execution_count": null,
      "outputs": []
    }
  ]
}